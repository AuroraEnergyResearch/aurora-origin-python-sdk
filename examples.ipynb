{
 "cells": [
  {
   "cell_type": "code",
   "execution_count": 2,
   "metadata": {},
   "outputs": [
    {
     "name": "stdout",
     "output_type": "stream",
     "text": [
      "The autoreload extension is already loaded. To reload it, use:\n",
      "  %reload_ext autoreload\n"
     ]
    }
   ],
   "source": [
    "%load_ext autoreload\n",
    "%autoreload 2\n",
    "\n",
    "# Setup\n",
    "from origin_sdk.OriginSession import OriginSession\n",
    "\n",
    "session = OriginSession()"
   ]
  },
  {
   "cell_type": "code",
   "execution_count": null,
   "metadata": {},
   "outputs": [],
   "source": [
    "# Get Projects\n",
    "\n",
    "session.get_projects()\n"
   ]
  },
  {
   "cell_type": "code",
   "execution_count": null,
   "metadata": {},
   "outputs": [],
   "source": [
    "# Get published scenarios for a region\n",
    "session.get_aurora_scenarios(region=\"gbr\")\n"
   ]
  },
  {
   "cell_type": "code",
   "execution_count": null,
   "metadata": {},
   "outputs": [],
   "source": [
    "# Get the latest central case for a region\n",
    "from datetime import datetime\n",
    "\n",
    "\n",
    "def get_latest_central_for(region: str):\n",
    "    # Get regional scenarios\n",
    "    scenarios_for_region = (\n",
    "        session.get_aurora_scenarios(region=region).get(\"data\").get(\"getScenarios\")\n",
    "    )\n",
    "\n",
    "    # Filter to central cases only\n",
    "    central_cases = [\n",
    "        scenario\n",
    "        for scenario in scenarios_for_region\n",
    "        if \"central\" in scenario.get(\"name\").lower()\n",
    "    ]\n",
    "\n",
    "    # Sort using publication date\n",
    "    central_cases.sort(\n",
    "        key=lambda scenario: datetime.fromisoformat(\n",
    "            scenario[\"publicationDate\"]\n",
    "        ).timestamp(),\n",
    "        reverse=True,\n",
    "    )\n",
    "\n",
    "    return central_cases[0]\n",
    "\n",
    "\n",
    "get_latest_central_for(\"aus\")\n"
   ]
  },
  {
   "cell_type": "code",
   "execution_count": null,
   "metadata": {},
   "outputs": [],
   "source": [
    "# Get Single Scenario (detailed view)\n",
    "# GBR Jan 23 Origin Central Id\n",
    "session.get_scenario_by_id(\"7bf6f951-def9-4745-ba92-d475f6f014ed\")\n"
   ]
  }
 ],
 "metadata": {
  "kernelspec": {
   "display_name": ".venv",
   "language": "python",
   "name": "python3"
  },
  "language_info": {
   "codemirror_mode": {
    "name": "ipython",
    "version": 3
   },
   "file_extension": ".py",
   "mimetype": "text/x-python",
   "name": "python",
   "nbconvert_exporter": "python",
   "pygments_lexer": "ipython3",
   "version": "3.11.2"
  },
  "orig_nbformat": 4
 },
 "nbformat": 4,
 "nbformat_minor": 2
}
